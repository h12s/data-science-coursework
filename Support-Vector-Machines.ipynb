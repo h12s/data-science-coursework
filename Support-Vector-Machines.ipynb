{
 "cells": [
  {
   "cell_type": "code",
   "execution_count": null,
   "id": "33a313c4-2511-4eb5-8889-50c34be1d924",
   "metadata": {
    "tags": []
   },
   "outputs": [
    {
     "name": "stdout",
     "output_type": "stream",
     "text": [
      "Margin is the distance between the hyperplane and the closest points from each data class (which are referred to as support vectors)\n",
      "SVM tries to find the hyperplane that maximizes the margin equally between the hyperplane from both data classes\n",
      "H+ margin hyperplane equation: wT.x + b = 1, H- margin hyperplane equation: wT.x + b = -1\n"
     ]
    }
   ],
   "source": [
    "#Question 1.1\n",
    "print(\"Margin is the distance between the hyperplane and the closest points from each data class (which are referred to as support vectors)\")\n",
    "print(\"SVM tries to find the hyperplane that maximizes the margin equally between the hyperplane from both data classes\")\n",
    "print(\"H+ margin hyperplane equation: wT.x + b = 1, H- margin hyperplane equation: wT.x + b = -1\")"
   ]
  },
  {
   "cell_type": "code",
   "execution_count": 25,
   "id": "f03d9017-d678-4f49-9b77-3f0756382de0",
   "metadata": {
    "tags": []
   },
   "outputs": [
    {
     "name": "stdout",
     "output_type": "stream",
     "text": [
      "h(X) = -X + 2 = 0\n"
     ]
    }
   ],
   "source": [
    "#Question 1.2\n",
    "print(\"h(X) = -X + 2 = 0\")"
   ]
  },
  {
   "cell_type": "code",
   "execution_count": 26,
   "id": "dca5bcfb-ade0-4eb7-a103-131fcbdf95e8",
   "metadata": {
    "tags": []
   },
   "outputs": [
    {
     "name": "stdout",
     "output_type": "stream",
     "text": [
      "A kernel function is a function that implicitly maps non-linearly seperable data into a higher dimension so that SVM can find a hyperplane \n",
      "that can easily linearly seperate the data classes by calculating dot product/inner product between every two points in the original data set\n"
     ]
    }
   ],
   "source": [
    "#Question 1.3\n",
    "print(\"\"\"A kernel function is a function that implicitly maps non-linearly seperable data into a higher dimension so that SVM can find a hyperplane \n",
    "that can easily linearly seperate the data classes by calculating dot product/inner product between every two points in the original data set\"\"\")"
   ]
  },
  {
   "cell_type": "code",
   "execution_count": 29,
   "id": "264d0a16-6e80-43ee-be4e-71c142ec257b",
   "metadata": {},
   "outputs": [
    {
     "name": "stdout",
     "output_type": "stream",
     "text": [
      "---------- linear kernel ----------\n",
      "Actual: [1, 3, 0, 4, 2, 0, 0, 0, 3, 0, 2, 1, 0, 1, 0, 0, 2, 0, 2, 1, 0, 3, 1, 0, 1, 0, 0, 2, 3, 0, 3, 0, 0, 0, 0, 0, 0, 1, 0, 1, 1, 0, 0, 0, 0, 0, 3, 0, 0, 1, 0, 2, 0, 0, 0, 1, 2, 0, 0, 0]\n",
      "Predicted: [0 2 0 2 1 2 0 0 3 1 0 3 0 4 0 0 1 0 2 0 0 1 0 0 2 0 0 0 0 0 4 0 0 0 0 0 0\n",
      " 0 0 1 0 0 0 0 0 0 3 0 0 2 0 3 0 0 0 0 0 0 0 0]\n",
      "SVM Model Accuracy Score: 0.6166666666666667\n",
      "Confusion matrix:\n",
      "[[33  1  1  0  0]\n",
      " [ 6  1  2  1  1]\n",
      " [ 3  2  1  1  0]\n",
      " [ 1  1  1  2  1]\n",
      " [ 0  0  1  0  0]]\n",
      "              precision    recall  f1-score   support\n",
      "\n",
      "           0       0.77      0.94      0.85        35\n",
      "           1       0.20      0.09      0.13        11\n",
      "           2       0.17      0.14      0.15         7\n",
      "           3       0.50      0.33      0.40         6\n",
      "           4       0.00      0.00      0.00         1\n",
      "\n",
      "    accuracy                           0.62        60\n",
      "   macro avg       0.33      0.30      0.30        60\n",
      "weighted avg       0.55      0.62      0.57        60\n",
      "\n",
      "\n",
      "---------- poly kernel ----------\n",
      "Actual: [1, 3, 0, 4, 2, 0, 0, 0, 3, 0, 2, 1, 0, 1, 0, 0, 2, 0, 2, 1, 0, 3, 1, 0, 1, 0, 0, 2, 3, 0, 3, 0, 0, 0, 0, 0, 0, 1, 0, 1, 1, 0, 0, 0, 0, 0, 3, 0, 0, 1, 0, 2, 0, 0, 0, 1, 2, 0, 0, 0]\n",
      "Predicted: [0 2 0 2 2 3 0 0 3 1 0 3 0 3 0 0 1 0 2 0 0 1 3 0 3 0 0 1 0 0 4 0 0 0 0 0 0\n",
      " 0 0 0 0 0 0 0 0 0 3 0 0 1 0 2 0 0 4 0 1 0 0 0]\n",
      "SVM Model Accuracy Score: 0.6333333333333333\n",
      "Confusion matrix:\n",
      "[[32  1  0  1  1]\n",
      " [ 6  1  0  4  0]\n",
      " [ 1  3  3  0  0]\n",
      " [ 1  1  1  2  1]\n",
      " [ 0  0  1  0  0]]\n",
      "              precision    recall  f1-score   support\n",
      "\n",
      "           0       0.80      0.91      0.85        35\n",
      "           1       0.17      0.09      0.12        11\n",
      "           2       0.60      0.43      0.50         7\n",
      "           3       0.29      0.33      0.31         6\n",
      "           4       0.00      0.00      0.00         1\n",
      "\n",
      "    accuracy                           0.63        60\n",
      "   macro avg       0.37      0.35      0.36        60\n",
      "weighted avg       0.60      0.63      0.61        60\n",
      "\n",
      "\n",
      "---------- rbf kernel ----------\n",
      "Actual: [1, 3, 0, 4, 2, 0, 0, 0, 3, 0, 2, 1, 0, 1, 0, 0, 2, 0, 2, 1, 0, 3, 1, 0, 1, 0, 0, 2, 3, 0, 3, 0, 0, 0, 0, 0, 0, 1, 0, 1, 1, 0, 0, 0, 0, 0, 3, 0, 0, 1, 0, 2, 0, 0, 0, 1, 2, 0, 0, 0]\n",
      "Predicted: [0 0 0 0 2 3 0 0 0 1 0 0 0 0 0 0 0 0 1 0 0 0 0 0 0 0 0 0 0 0 0 0 0 0 0 0 0\n",
      " 0 0 0 0 0 0 0 0 0 1 0 0 0 0 0 0 0 0 0 0 0 0 1]\n",
      "SVM Model Accuracy Score: 0.55\n",
      "Confusion matrix:\n",
      "[[32  2  0  1  0]\n",
      " [11  0  0  0  0]\n",
      " [ 5  1  1  0  0]\n",
      " [ 5  1  0  0  0]\n",
      " [ 1  0  0  0  0]]\n",
      "              precision    recall  f1-score   support\n",
      "\n",
      "           0       0.59      0.91      0.72        35\n",
      "           1       0.00      0.00      0.00        11\n",
      "           2       1.00      0.14      0.25         7\n",
      "           3       0.00      0.00      0.00         6\n",
      "           4       0.00      0.00      0.00         1\n",
      "\n",
      "    accuracy                           0.55        60\n",
      "   macro avg       0.32      0.21      0.19        60\n",
      "weighted avg       0.46      0.55      0.45        60\n",
      "\n",
      "\n",
      "---------- sigmoid kernel ----------\n",
      "Actual: [1, 3, 0, 4, 2, 0, 0, 0, 3, 0, 2, 1, 0, 1, 0, 0, 2, 0, 2, 1, 0, 3, 1, 0, 1, 0, 0, 2, 3, 0, 3, 0, 0, 0, 0, 0, 0, 1, 0, 1, 1, 0, 0, 0, 0, 0, 3, 0, 0, 1, 0, 2, 0, 0, 0, 1, 2, 0, 0, 0]\n",
      "Predicted: [0 0 0 0 0 0 0 0 0 0 0 0 0 0 0 0 0 0 0 0 0 0 0 0 0 0 0 0 0 0 0 0 0 0 0 0 0\n",
      " 0 0 0 0 0 0 0 0 0 0 0 0 0 0 0 0 0 0 0 0 0 0 0]\n",
      "SVM Model Accuracy Score: 0.5833333333333334\n",
      "Confusion matrix:\n",
      "[[35  0  0  0  0]\n",
      " [11  0  0  0  0]\n",
      " [ 7  0  0  0  0]\n",
      " [ 6  0  0  0  0]\n",
      " [ 1  0  0  0  0]]\n",
      "              precision    recall  f1-score   support\n",
      "\n",
      "           0       0.58      1.00      0.74        35\n",
      "           1       0.00      0.00      0.00        11\n",
      "           2       0.00      0.00      0.00         7\n",
      "           3       0.00      0.00      0.00         6\n",
      "           4       0.00      0.00      0.00         1\n",
      "\n",
      "    accuracy                           0.58        60\n",
      "   macro avg       0.12      0.20      0.15        60\n",
      "weighted avg       0.34      0.58      0.43        60\n",
      "\n",
      "\n"
     ]
    },
    {
     "name": "stderr",
     "output_type": "stream",
     "text": [
      "D:\\Virtual\\Anaconda3\\Lib\\site-packages\\sklearn\\metrics\\_classification.py:1469: UndefinedMetricWarning: Precision and F-score are ill-defined and being set to 0.0 in labels with no predicted samples. Use `zero_division` parameter to control this behavior.\n",
      "  _warn_prf(average, modifier, msg_start, len(result))\n",
      "D:\\Virtual\\Anaconda3\\Lib\\site-packages\\sklearn\\metrics\\_classification.py:1469: UndefinedMetricWarning: Precision and F-score are ill-defined and being set to 0.0 in labels with no predicted samples. Use `zero_division` parameter to control this behavior.\n",
      "  _warn_prf(average, modifier, msg_start, len(result))\n",
      "D:\\Virtual\\Anaconda3\\Lib\\site-packages\\sklearn\\metrics\\_classification.py:1469: UndefinedMetricWarning: Precision and F-score are ill-defined and being set to 0.0 in labels with no predicted samples. Use `zero_division` parameter to control this behavior.\n",
      "  _warn_prf(average, modifier, msg_start, len(result))\n",
      "D:\\Virtual\\Anaconda3\\Lib\\site-packages\\sklearn\\metrics\\_classification.py:1469: UndefinedMetricWarning: Precision and F-score are ill-defined and being set to 0.0 in labels with no predicted samples. Use `zero_division` parameter to control this behavior.\n",
      "  _warn_prf(average, modifier, msg_start, len(result))\n",
      "D:\\Virtual\\Anaconda3\\Lib\\site-packages\\sklearn\\metrics\\_classification.py:1469: UndefinedMetricWarning: Precision and F-score are ill-defined and being set to 0.0 in labels with no predicted samples. Use `zero_division` parameter to control this behavior.\n",
      "  _warn_prf(average, modifier, msg_start, len(result))\n",
      "D:\\Virtual\\Anaconda3\\Lib\\site-packages\\sklearn\\metrics\\_classification.py:1469: UndefinedMetricWarning: Precision and F-score are ill-defined and being set to 0.0 in labels with no predicted samples. Use `zero_division` parameter to control this behavior.\n",
      "  _warn_prf(average, modifier, msg_start, len(result))\n"
     ]
    },
    {
     "name": "stdout",
     "output_type": "stream",
     "text": [
      "Stochastic Gradient Descent Accuracy Score: 0.18333333333333332\n",
      "Adam Gradient Descent Accuracy Score: 0.5833333333333334\n"
     ]
    }
   ],
   "source": [
    "#Question 2\n",
    "import pandas as pd\n",
    "import matplotlib.pyplot as plt\n",
    "\n",
    "from sklearn import svm\n",
    "from sklearn.model_selection import train_test_split, cross_val_score\n",
    "from sklearn.metrics import classification_report, confusion_matrix\n",
    "\n",
    "data = pd.read_csv('heart-disease-dataset1.csv', header=None, sep=\",\", na_values='?', skiprows=[0, 1])\n",
    "data = data.dropna()\n",
    "column_names = ['age','sex','cp','tresbps','chol','fbs','restecg','thalach','exang','oldpeak','slope','ca','thal','result']\n",
    "data.columns = column_names\n",
    "\n",
    "\n",
    "df = pd.DataFrame({ column_name: data[column_name] for column_name in column_names })\n",
    "\n",
    "#for i in df.index:\n",
    "#    if (df.loc[i, 'result'] > 1):\n",
    "#        df.loc[i, 'result'] = 1\n",
    "\n",
    "\n",
    "X = df.iloc[:,:-1].values\n",
    "y = df.iloc[:,-1].values.tolist()\n",
    "#print(X)\n",
    "#print(y)\n",
    "\n",
    "X_train_1, X_test_1, Y_train_1, Y_test_1 = train_test_split(X, y, test_size=0.2, random_state=5)\n",
    "\n",
    "kernels = ['linear', 'poly', 'rbf', 'sigmoid']\n",
    "for kernel in kernels:\n",
    "    print(\"---------- \" + kernel + \" kernel ----------\")\n",
    "    sm = svm.SVC(kernel=kernel)\n",
    "    \n",
    "    if (kernel == 'linear'):\n",
    "        sm = svm.SVC(kernel=kernel)\n",
    "    elif (kernel == 'poly'):\n",
    "        sm = svm.SVC(kernel=kernel, coef0=4.0, degree=5)\n",
    "    elif (kernel == 'rbf'):\n",
    "        sm = svm.SVC(kernel=kernel, gamma=0.0015)\n",
    "    elif (kernel == 'sigmoid'):\n",
    "        sm = svm.SVC(kernel=kernel)\n",
    "    \n",
    "    sm.fit(X_train_1, Y_train_1)\n",
    "    y_pred = sm.predict(X_test_1)\n",
    "\n",
    "    print(\"Actual: {}\".format(Y_test_1))\n",
    "    print(\"Predicted: {}\".format(y_pred))\n",
    "\n",
    "    print(\"SVM Model Accuracy Score: {}\".format(sm.score(X_test_1, Y_test_1)))\n",
    "\n",
    "    print(\"Confusion matrix:\")\n",
    "    print(confusion_matrix(Y_test_1, y_pred))\n",
    "    print(classification_report(Y_test_1, y_pred))\n",
    "\n",
    "    print()\n",
    "    \n",
    "\n",
    "from sklearn.linear_model import SGDClassifier\n",
    "from sklearn.neural_network import MLPClassifier\n",
    "\n",
    "X_train_1, X_test_1, Y_train_1, Y_test_1 = train_test_split(X, y, test_size = 0.2, random_state = 5)\n",
    "\n",
    "clf = MLPClassifier(solver='sgd', alpha=1e-5, hidden_layer_sizes=(1, ), max_iter=10000, random_state = 5,  activation=\"identity\", learning_rate_init=0.01)\n",
    "\n",
    "clf.fit(X_train_1, Y_train_1)\n",
    "\n",
    "y_pred = clf.predict(X_test_1)\n",
    "\n",
    "print(f\"Stochastic Gradient Descent Accuracy Score: {clf.score(X_test_1, Y_test_1)}\")\n",
    "\n",
    "X_train_1, X_test_1, Y_train_1, Y_test_1 = train_test_split(X, y, test_size = 0.2, random_state = 5)\n",
    "\n",
    "clf = MLPClassifier(solver='adam', alpha=1e-5, hidden_layer_sizes=(1, ), max_iter=10000, random_state = 5,  activation=\"identity\", learning_rate_init=0.01)\n",
    "\n",
    "clf.fit(X_train_1, Y_train_1)\n",
    "\n",
    "y_pred = clf.predict(X_test_1)\n",
    "\n",
    "print(f\"Adam Gradient Descent Accuracy Score: {clf.score(X_test_1, Y_test_1)}\")\n",
    "\n",
    "    "
   ]
  },
  {
   "cell_type": "code",
   "execution_count": 30,
   "id": "803ebea3-5ba1-4e28-899d-ab94ec4796a4",
   "metadata": {
    "tags": []
   },
   "outputs": [
    {
     "name": "stdout",
     "output_type": "stream",
     "text": [
      "Polynomial kernel performed the best\n"
     ]
    }
   ],
   "source": [
    "print(\"Polynomial kernel performed the best\")"
   ]
  },
  {
   "cell_type": "code",
   "execution_count": null,
   "id": "016d269b-45dc-47c8-b2ed-0069de71d662",
   "metadata": {},
   "outputs": [],
   "source": []
  }
 ],
 "metadata": {
  "kernelspec": {
   "display_name": "Python 3 (ipykernel)",
   "language": "python",
   "name": "python3"
  },
  "language_info": {
   "codemirror_mode": {
    "name": "ipython",
    "version": 3
   },
   "file_extension": ".py",
   "mimetype": "text/x-python",
   "name": "python",
   "nbconvert_exporter": "python",
   "pygments_lexer": "ipython3",
   "version": "3.11.5"
  }
 },
 "nbformat": 4,
 "nbformat_minor": 5
}
